{
 "cells": [
  {
   "cell_type": "code",
   "execution_count": null,
   "metadata": {},
   "outputs": [],
   "source": []
  },
  {
   "cell_type": "code",
   "execution_count": 37,
   "metadata": {},
   "outputs": [],
   "source": [
    "id1 = 314832502\n",
    "id2 = 207498510"
   ]
  },
  {
   "cell_type": "code",
   "execution_count": 38,
   "metadata": {},
   "outputs": [],
   "source": [
    "#df = pd.DataFrame([id1])"
   ]
  },
  {
   "cell_type": "markdown",
   "metadata": {},
   "source": [
    "Uncomment in case two students are doing the assignment together:"
   ]
  },
  {
   "cell_type": "code",
   "execution_count": 39,
   "metadata": {},
   "outputs": [],
   "source": [
    "df = pd.DataFrame([id1,id2])"
   ]
  },
  {
   "cell_type": "code",
   "execution_count": 40,
   "metadata": {},
   "outputs": [],
   "source": [
    "df.to_clipboard(index=False,header=False)"
   ]
  },
  {
   "cell_type": "markdown",
   "metadata": {},
   "source": [
    "Please fill your names here:"
   ]
  },
  {
   "cell_type": "markdown",
   "metadata": {},
   "source": [
    "Shai Miles and Sharon Litvak"
   ]
  },
  {
   "cell_type": "markdown",
   "metadata": {},
   "source": [
    "---"
   ]
  },
  {
   "cell_type": "markdown",
   "metadata": {},
   "source": [
    "----"
   ]
  },
  {
   "cell_type": "markdown",
   "metadata": {
    "jp-MarkdownHeadingCollapsed": true,
    "tags": []
   },
   "source": [
    "# Write your answers here\n",
    "\n",
    "add as much lines of code and markdown as you need for each answer"
   ]
  },
  {
   "cell_type": "markdown",
   "metadata": {},
   "source": [
    "# Q1 "
   ]
  },
  {
   "cell_type": "code",
   "execution_count": 41,
   "metadata": {},
   "outputs": [],
   "source": [
    "import pandas as pd\n",
    "import numpy as np"
   ]
  },
  {
   "cell_type": "code",
   "execution_count": 42,
   "metadata": {},
   "outputs": [],
   "source": [
    "covid_data=\"https://raw.githubusercontent.com/owid/covid-19-data/master/public/data/vaccinations/vaccinations.csv\"\n",
    "r_cd=pd.read_csv(covid_data)"
   ]
  },
  {
   "cell_type": "code",
   "execution_count": 43,
   "metadata": {},
   "outputs": [],
   "source": [
    "coun_data = r_cd.loc[(r_cd.location==\"Scotland\")|(r_cd.location==\"Serbia\")]"
   ]
  },
  {
   "cell_type": "code",
   "execution_count": 44,
   "metadata": {},
   "outputs": [
    {
     "data": {
      "text/html": [
       "<div>\n",
       "<style scoped>\n",
       "    .dataframe tbody tr th:only-of-type {\n",
       "        vertical-align: middle;\n",
       "    }\n",
       "\n",
       "    .dataframe tbody tr th {\n",
       "        vertical-align: top;\n",
       "    }\n",
       "\n",
       "    .dataframe thead th {\n",
       "        text-align: right;\n",
       "    }\n",
       "</style>\n",
       "<table border=\"1\" class=\"dataframe\">\n",
       "  <thead>\n",
       "    <tr style=\"text-align: right;\">\n",
       "      <th></th>\n",
       "      <th>location</th>\n",
       "      <th>iso_code</th>\n",
       "      <th>date</th>\n",
       "      <th>total_vaccinations</th>\n",
       "      <th>people_vaccinated</th>\n",
       "      <th>people_fully_vaccinated</th>\n",
       "      <th>total_boosters</th>\n",
       "      <th>daily_vaccinations_raw</th>\n",
       "      <th>daily_vaccinations</th>\n",
       "      <th>total_vaccinations_per_hundred</th>\n",
       "      <th>people_vaccinated_per_hundred</th>\n",
       "      <th>people_fully_vaccinated_per_hundred</th>\n",
       "      <th>total_boosters_per_hundred</th>\n",
       "      <th>daily_vaccinations_per_million</th>\n",
       "      <th>daily_people_vaccinated</th>\n",
       "      <th>daily_people_vaccinated_per_hundred</th>\n",
       "    </tr>\n",
       "  </thead>\n",
       "  <tbody>\n",
       "    <tr>\n",
       "      <th>69291</th>\n",
       "      <td>Scotland</td>\n",
       "      <td>OWID_SCT</td>\n",
       "      <td>2021-01-10</td>\n",
       "      <td>166135.0</td>\n",
       "      <td>163377.0</td>\n",
       "      <td>2758.0</td>\n",
       "      <td>NaN</td>\n",
       "      <td>NaN</td>\n",
       "      <td>NaN</td>\n",
       "      <td>3.04</td>\n",
       "      <td>2.99</td>\n",
       "      <td>0.05</td>\n",
       "      <td>NaN</td>\n",
       "      <td>NaN</td>\n",
       "      <td>NaN</td>\n",
       "      <td>NaN</td>\n",
       "    </tr>\n",
       "    <tr>\n",
       "      <th>69292</th>\n",
       "      <td>Scotland</td>\n",
       "      <td>OWID_SCT</td>\n",
       "      <td>2021-01-11</td>\n",
       "      <td>178799.0</td>\n",
       "      <td>175942.0</td>\n",
       "      <td>2857.0</td>\n",
       "      <td>NaN</td>\n",
       "      <td>12664.0</td>\n",
       "      <td>12664.0</td>\n",
       "      <td>3.27</td>\n",
       "      <td>3.22</td>\n",
       "      <td>0.05</td>\n",
       "      <td>NaN</td>\n",
       "      <td>2317.0</td>\n",
       "      <td>12565.0</td>\n",
       "      <td>0.230</td>\n",
       "    </tr>\n",
       "    <tr>\n",
       "      <th>69293</th>\n",
       "      <td>Scotland</td>\n",
       "      <td>OWID_SCT</td>\n",
       "      <td>2021-01-12</td>\n",
       "      <td>194955.0</td>\n",
       "      <td>191965.0</td>\n",
       "      <td>2990.0</td>\n",
       "      <td>NaN</td>\n",
       "      <td>16156.0</td>\n",
       "      <td>14410.0</td>\n",
       "      <td>3.57</td>\n",
       "      <td>3.51</td>\n",
       "      <td>0.05</td>\n",
       "      <td>NaN</td>\n",
       "      <td>2636.0</td>\n",
       "      <td>14294.0</td>\n",
       "      <td>0.262</td>\n",
       "    </tr>\n",
       "    <tr>\n",
       "      <th>69294</th>\n",
       "      <td>Scotland</td>\n",
       "      <td>OWID_SCT</td>\n",
       "      <td>2021-01-13</td>\n",
       "      <td>211397.0</td>\n",
       "      <td>208207.0</td>\n",
       "      <td>3190.0</td>\n",
       "      <td>NaN</td>\n",
       "      <td>16442.0</td>\n",
       "      <td>15087.0</td>\n",
       "      <td>3.87</td>\n",
       "      <td>3.81</td>\n",
       "      <td>0.06</td>\n",
       "      <td>NaN</td>\n",
       "      <td>2760.0</td>\n",
       "      <td>14943.0</td>\n",
       "      <td>0.273</td>\n",
       "    </tr>\n",
       "    <tr>\n",
       "      <th>69295</th>\n",
       "      <td>Scotland</td>\n",
       "      <td>OWID_SCT</td>\n",
       "      <td>2021-01-14</td>\n",
       "      <td>228171.0</td>\n",
       "      <td>224840.0</td>\n",
       "      <td>3331.0</td>\n",
       "      <td>NaN</td>\n",
       "      <td>16774.0</td>\n",
       "      <td>15509.0</td>\n",
       "      <td>4.17</td>\n",
       "      <td>4.11</td>\n",
       "      <td>0.06</td>\n",
       "      <td>NaN</td>\n",
       "      <td>2837.0</td>\n",
       "      <td>15366.0</td>\n",
       "      <td>0.281</td>\n",
       "    </tr>\n",
       "    <tr>\n",
       "      <th>...</th>\n",
       "      <td>...</td>\n",
       "      <td>...</td>\n",
       "      <td>...</td>\n",
       "      <td>...</td>\n",
       "      <td>...</td>\n",
       "      <td>...</td>\n",
       "      <td>...</td>\n",
       "      <td>...</td>\n",
       "      <td>...</td>\n",
       "      <td>...</td>\n",
       "      <td>...</td>\n",
       "      <td>...</td>\n",
       "      <td>...</td>\n",
       "      <td>...</td>\n",
       "      <td>...</td>\n",
       "      <td>...</td>\n",
       "    </tr>\n",
       "    <tr>\n",
       "      <th>70524</th>\n",
       "      <td>Serbia</td>\n",
       "      <td>SRB</td>\n",
       "      <td>2022-03-06</td>\n",
       "      <td>8480196.0</td>\n",
       "      <td>3344962.0</td>\n",
       "      <td>3265654.0</td>\n",
       "      <td>1869580.0</td>\n",
       "      <td>NaN</td>\n",
       "      <td>1327.0</td>\n",
       "      <td>123.41</td>\n",
       "      <td>48.68</td>\n",
       "      <td>47.52</td>\n",
       "      <td>27.21</td>\n",
       "      <td>193.0</td>\n",
       "      <td>169.0</td>\n",
       "      <td>0.002</td>\n",
       "    </tr>\n",
       "    <tr>\n",
       "      <th>70525</th>\n",
       "      <td>Serbia</td>\n",
       "      <td>SRB</td>\n",
       "      <td>2022-03-07</td>\n",
       "      <td>NaN</td>\n",
       "      <td>NaN</td>\n",
       "      <td>NaN</td>\n",
       "      <td>NaN</td>\n",
       "      <td>NaN</td>\n",
       "      <td>1276.0</td>\n",
       "      <td>NaN</td>\n",
       "      <td>NaN</td>\n",
       "      <td>NaN</td>\n",
       "      <td>NaN</td>\n",
       "      <td>186.0</td>\n",
       "      <td>165.0</td>\n",
       "      <td>0.002</td>\n",
       "    </tr>\n",
       "    <tr>\n",
       "      <th>70526</th>\n",
       "      <td>Serbia</td>\n",
       "      <td>SRB</td>\n",
       "      <td>2022-03-08</td>\n",
       "      <td>NaN</td>\n",
       "      <td>NaN</td>\n",
       "      <td>NaN</td>\n",
       "      <td>NaN</td>\n",
       "      <td>NaN</td>\n",
       "      <td>1186.0</td>\n",
       "      <td>NaN</td>\n",
       "      <td>NaN</td>\n",
       "      <td>NaN</td>\n",
       "      <td>NaN</td>\n",
       "      <td>173.0</td>\n",
       "      <td>161.0</td>\n",
       "      <td>0.002</td>\n",
       "    </tr>\n",
       "    <tr>\n",
       "      <th>70527</th>\n",
       "      <td>Serbia</td>\n",
       "      <td>SRB</td>\n",
       "      <td>2022-03-09</td>\n",
       "      <td>8483405.0</td>\n",
       "      <td>3345446.0</td>\n",
       "      <td>3266511.0</td>\n",
       "      <td>1871448.0</td>\n",
       "      <td>NaN</td>\n",
       "      <td>1163.0</td>\n",
       "      <td>123.46</td>\n",
       "      <td>48.69</td>\n",
       "      <td>47.54</td>\n",
       "      <td>27.23</td>\n",
       "      <td>169.0</td>\n",
       "      <td>161.0</td>\n",
       "      <td>0.002</td>\n",
       "    </tr>\n",
       "    <tr>\n",
       "      <th>70528</th>\n",
       "      <td>Serbia</td>\n",
       "      <td>SRB</td>\n",
       "      <td>2022-03-10</td>\n",
       "      <td>8488708.0</td>\n",
       "      <td>3345631.0</td>\n",
       "      <td>3266852.0</td>\n",
       "      <td>1872225.0</td>\n",
       "      <td>5303.0</td>\n",
       "      <td>1744.0</td>\n",
       "      <td>123.53</td>\n",
       "      <td>48.69</td>\n",
       "      <td>47.54</td>\n",
       "      <td>27.25</td>\n",
       "      <td>254.0</td>\n",
       "      <td>164.0</td>\n",
       "      <td>0.002</td>\n",
       "    </tr>\n",
       "  </tbody>\n",
       "</table>\n",
       "<p>857 rows × 16 columns</p>\n",
       "</div>"
      ],
      "text/plain": [
       "       location  iso_code        date  total_vaccinations  people_vaccinated  \\\n",
       "69291  Scotland  OWID_SCT  2021-01-10            166135.0           163377.0   \n",
       "69292  Scotland  OWID_SCT  2021-01-11            178799.0           175942.0   \n",
       "69293  Scotland  OWID_SCT  2021-01-12            194955.0           191965.0   \n",
       "69294  Scotland  OWID_SCT  2021-01-13            211397.0           208207.0   \n",
       "69295  Scotland  OWID_SCT  2021-01-14            228171.0           224840.0   \n",
       "...         ...       ...         ...                 ...                ...   \n",
       "70524    Serbia       SRB  2022-03-06           8480196.0          3344962.0   \n",
       "70525    Serbia       SRB  2022-03-07                 NaN                NaN   \n",
       "70526    Serbia       SRB  2022-03-08                 NaN                NaN   \n",
       "70527    Serbia       SRB  2022-03-09           8483405.0          3345446.0   \n",
       "70528    Serbia       SRB  2022-03-10           8488708.0          3345631.0   \n",
       "\n",
       "       people_fully_vaccinated  total_boosters  daily_vaccinations_raw  \\\n",
       "69291                   2758.0             NaN                     NaN   \n",
       "69292                   2857.0             NaN                 12664.0   \n",
       "69293                   2990.0             NaN                 16156.0   \n",
       "69294                   3190.0             NaN                 16442.0   \n",
       "69295                   3331.0             NaN                 16774.0   \n",
       "...                        ...             ...                     ...   \n",
       "70524                3265654.0       1869580.0                     NaN   \n",
       "70525                      NaN             NaN                     NaN   \n",
       "70526                      NaN             NaN                     NaN   \n",
       "70527                3266511.0       1871448.0                     NaN   \n",
       "70528                3266852.0       1872225.0                  5303.0   \n",
       "\n",
       "       daily_vaccinations  total_vaccinations_per_hundred  \\\n",
       "69291                 NaN                            3.04   \n",
       "69292             12664.0                            3.27   \n",
       "69293             14410.0                            3.57   \n",
       "69294             15087.0                            3.87   \n",
       "69295             15509.0                            4.17   \n",
       "...                   ...                             ...   \n",
       "70524              1327.0                          123.41   \n",
       "70525              1276.0                             NaN   \n",
       "70526              1186.0                             NaN   \n",
       "70527              1163.0                          123.46   \n",
       "70528              1744.0                          123.53   \n",
       "\n",
       "       people_vaccinated_per_hundred  people_fully_vaccinated_per_hundred  \\\n",
       "69291                           2.99                                 0.05   \n",
       "69292                           3.22                                 0.05   \n",
       "69293                           3.51                                 0.05   \n",
       "69294                           3.81                                 0.06   \n",
       "69295                           4.11                                 0.06   \n",
       "...                              ...                                  ...   \n",
       "70524                          48.68                                47.52   \n",
       "70525                            NaN                                  NaN   \n",
       "70526                            NaN                                  NaN   \n",
       "70527                          48.69                                47.54   \n",
       "70528                          48.69                                47.54   \n",
       "\n",
       "       total_boosters_per_hundred  daily_vaccinations_per_million  \\\n",
       "69291                         NaN                             NaN   \n",
       "69292                         NaN                          2317.0   \n",
       "69293                         NaN                          2636.0   \n",
       "69294                         NaN                          2760.0   \n",
       "69295                         NaN                          2837.0   \n",
       "...                           ...                             ...   \n",
       "70524                       27.21                           193.0   \n",
       "70525                         NaN                           186.0   \n",
       "70526                         NaN                           173.0   \n",
       "70527                       27.23                           169.0   \n",
       "70528                       27.25                           254.0   \n",
       "\n",
       "       daily_people_vaccinated  daily_people_vaccinated_per_hundred  \n",
       "69291                      NaN                                  NaN  \n",
       "69292                  12565.0                                0.230  \n",
       "69293                  14294.0                                0.262  \n",
       "69294                  14943.0                                0.273  \n",
       "69295                  15366.0                                0.281  \n",
       "...                        ...                                  ...  \n",
       "70524                    169.0                                0.002  \n",
       "70525                    165.0                                0.002  \n",
       "70526                    161.0                                0.002  \n",
       "70527                    161.0                                0.002  \n",
       "70528                    164.0                                0.002  \n",
       "\n",
       "[857 rows x 16 columns]"
      ]
     },
     "execution_count": 44,
     "metadata": {},
     "output_type": "execute_result"
    }
   ],
   "source": [
    "coun_data"
   ]
  },
  {
   "cell_type": "markdown",
   "metadata": {},
   "source": [
    "# Q2"
   ]
  },
  {
   "cell_type": "code",
   "execution_count": 45,
   "metadata": {},
   "outputs": [
    {
     "data": {
      "text/html": [
       "<div>\n",
       "<style scoped>\n",
       "    .dataframe tbody tr th:only-of-type {\n",
       "        vertical-align: middle;\n",
       "    }\n",
       "\n",
       "    .dataframe tbody tr th {\n",
       "        vertical-align: top;\n",
       "    }\n",
       "\n",
       "    .dataframe thead th {\n",
       "        text-align: right;\n",
       "    }\n",
       "</style>\n",
       "<table border=\"1\" class=\"dataframe\">\n",
       "  <thead>\n",
       "    <tr style=\"text-align: right;\">\n",
       "      <th></th>\n",
       "      <th>location</th>\n",
       "      <th>iso_code</th>\n",
       "      <th>total_boosters_per_hundred</th>\n",
       "    </tr>\n",
       "  </thead>\n",
       "  <tbody>\n",
       "    <tr>\n",
       "      <th>70526</th>\n",
       "      <td>Serbia</td>\n",
       "      <td>SRB</td>\n",
       "      <td>NaN</td>\n",
       "    </tr>\n",
       "    <tr>\n",
       "      <th>70527</th>\n",
       "      <td>Serbia</td>\n",
       "      <td>SRB</td>\n",
       "      <td>27.23</td>\n",
       "    </tr>\n",
       "    <tr>\n",
       "      <th>70528</th>\n",
       "      <td>Serbia</td>\n",
       "      <td>SRB</td>\n",
       "      <td>27.25</td>\n",
       "    </tr>\n",
       "  </tbody>\n",
       "</table>\n",
       "</div>"
      ],
      "text/plain": [
       "      location iso_code  total_boosters_per_hundred\n",
       "70526   Serbia      SRB                         NaN\n",
       "70527   Serbia      SRB                       27.23\n",
       "70528   Serbia      SRB                       27.25"
      ]
     },
     "execution_count": 45,
     "metadata": {},
     "output_type": "execute_result"
    }
   ],
   "source": [
    "coun_data.iloc[[-3,-2,-1],[0,1,12]]"
   ]
  },
  {
   "cell_type": "markdown",
   "metadata": {},
   "source": [
    "# Q3"
   ]
  },
  {
   "cell_type": "code",
   "execution_count": 46,
   "metadata": {},
   "outputs": [
    {
     "data": {
      "text/html": [
       "<div>\n",
       "<style scoped>\n",
       "    .dataframe tbody tr th:only-of-type {\n",
       "        vertical-align: middle;\n",
       "    }\n",
       "\n",
       "    .dataframe tbody tr th {\n",
       "        vertical-align: top;\n",
       "    }\n",
       "\n",
       "    .dataframe thead th {\n",
       "        text-align: right;\n",
       "    }\n",
       "</style>\n",
       "<table border=\"1\" class=\"dataframe\">\n",
       "  <thead>\n",
       "    <tr style=\"text-align: right;\">\n",
       "      <th></th>\n",
       "      <th>location</th>\n",
       "      <th>iso_code</th>\n",
       "      <th>date</th>\n",
       "      <th>total_vaccinations</th>\n",
       "      <th>people_vaccinated</th>\n",
       "      <th>people_fully_vaccinated</th>\n",
       "      <th>total_boosters</th>\n",
       "      <th>daily_vaccinations_raw</th>\n",
       "      <th>daily_vaccinations</th>\n",
       "      <th>total_vaccinations_per_hundred</th>\n",
       "      <th>people_vaccinated_per_hundred</th>\n",
       "      <th>people_fully_vaccinated_per_hundred</th>\n",
       "      <th>total_boosters_per_hundred</th>\n",
       "      <th>daily_vaccinations_per_million</th>\n",
       "      <th>daily_people_vaccinated</th>\n",
       "      <th>daily_people_vaccinated_per_hundred</th>\n",
       "    </tr>\n",
       "  </thead>\n",
       "  <tbody>\n",
       "    <tr>\n",
       "      <th>69637</th>\n",
       "      <td>Scotland</td>\n",
       "      <td>OWID_SCT</td>\n",
       "      <td>2021-12-22</td>\n",
       "      <td>11162841.0</td>\n",
       "      <td>4377002.0</td>\n",
       "      <td>4003377.0</td>\n",
       "      <td>2782462.0</td>\n",
       "      <td>78321.0</td>\n",
       "      <td>71226.0</td>\n",
       "      <td>204.22</td>\n",
       "      <td>80.08</td>\n",
       "      <td>73.24</td>\n",
       "      <td>50.9</td>\n",
       "      <td>13031.0</td>\n",
       "      <td>1509.0</td>\n",
       "      <td>0.028</td>\n",
       "    </tr>\n",
       "  </tbody>\n",
       "</table>\n",
       "</div>"
      ],
      "text/plain": [
       "       location  iso_code        date  total_vaccinations  people_vaccinated  \\\n",
       "69637  Scotland  OWID_SCT  2021-12-22          11162841.0          4377002.0   \n",
       "\n",
       "       people_fully_vaccinated  total_boosters  daily_vaccinations_raw  \\\n",
       "69637                4003377.0       2782462.0                 78321.0   \n",
       "\n",
       "       daily_vaccinations  total_vaccinations_per_hundred  \\\n",
       "69637             71226.0                          204.22   \n",
       "\n",
       "       people_vaccinated_per_hundred  people_fully_vaccinated_per_hundred  \\\n",
       "69637                          80.08                                73.24   \n",
       "\n",
       "       total_boosters_per_hundred  daily_vaccinations_per_million  \\\n",
       "69637                        50.9                         13031.0   \n",
       "\n",
       "       daily_people_vaccinated  daily_people_vaccinated_per_hundred  \n",
       "69637                   1509.0                                0.028  "
      ]
     },
     "execution_count": 46,
     "metadata": {},
     "output_type": "execute_result"
    }
   ],
   "source": [
    "max_data=coun_data[\"daily_vaccinations_per_million\"].max()\n",
    "coun_data.loc[coun_data.daily_vaccinations_per_million==max_data]"
   ]
  },
  {
   "cell_type": "markdown",
   "metadata": {},
   "source": [
    "# Q4"
   ]
  },
  {
   "cell_type": "code",
   "execution_count": 47,
   "metadata": {},
   "outputs": [
    {
     "data": {
      "text/plain": [
       "48.08354460093898"
      ]
     },
     "execution_count": 47,
     "metadata": {},
     "output_type": "execute_result"
    }
   ],
   "source": [
    "s1=r_cd.loc[(r_cd.location==\"Scotland\")]\n",
    "s1.people_fully_vaccinated_per_hundred.mean()"
   ]
  },
  {
   "cell_type": "code",
   "execution_count": 48,
   "metadata": {},
   "outputs": [
    {
     "data": {
      "text/plain": [
       "61.92"
      ]
     },
     "execution_count": 48,
     "metadata": {},
     "output_type": "execute_result"
    }
   ],
   "source": [
    "s1.people_fully_vaccinated_per_hundred.median()"
   ]
  },
  {
   "cell_type": "code",
   "execution_count": 49,
   "metadata": {},
   "outputs": [
    {
     "data": {
      "text/plain": [
       "32.538235294117655"
      ]
     },
     "execution_count": 49,
     "metadata": {},
     "output_type": "execute_result"
    }
   ],
   "source": [
    "s2=r_cd.loc[(r_cd.location==\"Serbia\")]\n",
    "s2.people_fully_vaccinated_per_hundred.mean()"
   ]
  },
  {
   "cell_type": "code",
   "execution_count": 50,
   "metadata": {},
   "outputs": [
    {
     "data": {
      "text/plain": [
       "39.80500000000001"
      ]
     },
     "execution_count": 50,
     "metadata": {},
     "output_type": "execute_result"
    }
   ],
   "source": [
    "s2.people_fully_vaccinated_per_hundred.median()"
   ]
  },
  {
   "cell_type": "markdown",
   "metadata": {},
   "source": [
    "החציון יותר גדול מהממוצע בכל מדינה שבחרנו בגלל שבתאריכים מסויימים מעט מאוד אנשים התחסנו ולכן כשנחשבים בממוצע מ\"מורידים אותו\" והחציון משקף בדיוק את האמצע בין תחילת ההתחסנות לסופה,בה כנראה התחילו להתחסן יותר ויותר אנשים פר תקופה"
   ]
  },
  {
   "cell_type": "markdown",
   "metadata": {},
   "source": [
    "# Q5"
   ]
  },
  {
   "cell_type": "code",
   "execution_count": 52,
   "metadata": {},
   "outputs": [],
   "source": [
    "s1mean=s1.people_fully_vaccinated_per_hundred.mean()\n",
    "s2mean=s2.people_fully_vaccinated_per_hundred.mean()"
   ]
  },
  {
   "cell_type": "code",
   "execution_count": 53,
   "metadata": {},
   "outputs": [
    {
     "data": {
      "text/plain": [
       "40.31088994752832"
      ]
     },
     "execution_count": 53,
     "metadata": {},
     "output_type": "execute_result"
    }
   ],
   "source": [
    "(s1mean+s2mean)/2"
   ]
  },
  {
   "cell_type": "markdown",
   "metadata": {},
   "source": [
    "---\n",
    "# GOOD LUCK !!!!\n",
    "---"
   ]
  },
  {
   "cell_type": "code",
   "execution_count": 54,
   "metadata": {},
   "outputs": [],
   "source": [
    "# do not type below this line"
   ]
  }
 ],
 "metadata": {
  "kernelspec": {
   "display_name": "Python 3",
   "language": "python",
   "name": "python3"
  },
  "language_info": {
   "codemirror_mode": {
    "name": "ipython",
    "version": 3
   },
   "file_extension": ".py",
   "mimetype": "text/x-python",
   "name": "python",
   "nbconvert_exporter": "python",
   "pygments_lexer": "ipython3",
   "version": "3.8.8"
  }
 },
 "nbformat": 4,
 "nbformat_minor": 4
}
