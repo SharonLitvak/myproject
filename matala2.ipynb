{
 "cells": [
  {
   "cell_type": "markdown",
   "metadata": {},
   "source": [
    "# Identify:\n",
    "\n",
    "Please fill-in your ID in the following cell, **only id numbers, no names!**\n"
   ]
  },
  {
   "cell_type": "code",
   "execution_count": 2,
   "metadata": {},
   "outputs": [],
   "source": [
    "import numpy as np\n",
    "import pandas as pd\n",
    "import seaborn as sns"
   ]
  },
  {
   "cell_type": "code",
   "execution_count": 3,
   "metadata": {},
   "outputs": [],
   "source": [
    "id1 = 314832502\n",
    "id2 = 207498510"
   ]
  },
  {
   "cell_type": "code",
   "execution_count": 4,
   "metadata": {},
   "outputs": [],
   "source": [
    "df = pd.DataFrame([id1,id2])"
   ]
  },
  {
   "cell_type": "code",
   "execution_count": 5,
   "metadata": {},
   "outputs": [],
   "source": [
    "df.to_clipboard(index=False,header=False)"
   ]
  },
  {
   "cell_type": "markdown",
   "metadata": {},
   "source": [
    "Please fill your names here:"
   ]
  },
  {
   "cell_type": "markdown",
   "metadata": {},
   "source": [
    "שי מילס ושרון ליטבק"
   ]
  },
  {
   "cell_type": "markdown",
   "metadata": {},
   "source": [
    "---"
   ]
  },
  {
   "cell_type": "markdown",
   "metadata": {},
   "source": [
    "----"
   ]
  },
  {
   "cell_type": "markdown",
   "metadata": {
    "jp-MarkdownHeadingCollapsed": true,
    "tags": []
   },
   "source": [
    "# Write your answers here\n",
    "\n",
    "add as much lines of code and markdown as you need for each answer"
   ]
  },
  {
   "cell_type": "markdown",
   "metadata": {},
   "source": [
    "# Q1 "
   ]
  },
  {
   "cell_type": "code",
   "execution_count": 66,
   "metadata": {},
   "outputs": [],
   "source": [
    "import pandas as pd\n",
    "import numpy as np\n",
    "import matplotlib.pyplot as plt\n",
    "import seaborn as sns"
   ]
  },
  {
   "cell_type": "code",
   "execution_count": null,
   "metadata": {},
   "outputs": [],
   "source": [
    "covid_data=\"https://raw.githubusercontent.com/owid/covid-19-data/master/public/data/vaccinations/vaccinations.csv\"\n",
    "r_cd=pd.read_csv(covid_data)"
   ]
  },
  {
   "cell_type": "code",
   "execution_count": null,
   "metadata": {},
   "outputs": [],
   "source": [
    "coun_data = r_cd.loc[(r_cd.location==\"Scotland\")|(r_cd.location==\"Serbia\")]"
   ]
  },
  {
   "cell_type": "code",
   "execution_count": null,
   "metadata": {},
   "outputs": [],
   "source": [
    "coun_data = r_cd.loc[(r_cd.location==\"Scotland\")|(r_cd.location==\"Serbia\")]"
   ]
  },
  {
   "cell_type": "code",
   "execution_count": null,
   "metadata": {},
   "outputs": [],
   "source": [
    "coun_data"
   ]
  },
  {
   "cell_type": "code",
   "execution_count": 83,
   "metadata": {},
   "outputs": [
    {
     "data": {
      "text/html": [
       "<div>\n",
       "<style scoped>\n",
       "    .dataframe tbody tr th:only-of-type {\n",
       "        vertical-align: middle;\n",
       "    }\n",
       "\n",
       "    .dataframe tbody tr th {\n",
       "        vertical-align: top;\n",
       "    }\n",
       "\n",
       "    .dataframe thead th {\n",
       "        text-align: right;\n",
       "    }\n",
       "</style>\n",
       "<table border=\"1\" class=\"dataframe\">\n",
       "  <thead>\n",
       "    <tr style=\"text-align: right;\">\n",
       "      <th></th>\n",
       "      <th>country</th>\n",
       "      <th>iso_code</th>\n",
       "      <th>date</th>\n",
       "      <th>total_vaccinations</th>\n",
       "      <th>people_vaccinated</th>\n",
       "      <th>people_fully_vaccinated</th>\n",
       "      <th>total_boosters</th>\n",
       "      <th>daily_vaccinations_raw</th>\n",
       "      <th>daily_vaccinations</th>\n",
       "      <th>total_vaccinations_per_hundred</th>\n",
       "      <th>people_vaccinated_per_hundred</th>\n",
       "      <th>people_fully_vaccinated_per_hundred</th>\n",
       "      <th>total_boosters_per_hundred</th>\n",
       "      <th>daily_vaccinations_per_million</th>\n",
       "      <th>daily_people_vaccinated</th>\n",
       "      <th>daily_people_vaccinated_per_hundred</th>\n",
       "      <th>booster_no_nan</th>\n",
       "    </tr>\n",
       "  </thead>\n",
       "  <tbody>\n",
       "    <tr>\n",
       "      <th>73117</th>\n",
       "      <td>Scotland</td>\n",
       "      <td>OWID_SCT</td>\n",
       "      <td>2021-01-10</td>\n",
       "      <td>166135.0</td>\n",
       "      <td>163377.0</td>\n",
       "      <td>2758.0</td>\n",
       "      <td>NaN</td>\n",
       "      <td>NaN</td>\n",
       "      <td>NaN</td>\n",
       "      <td>3.04</td>\n",
       "      <td>2.99</td>\n",
       "      <td>0.05</td>\n",
       "      <td>NaN</td>\n",
       "      <td>NaN</td>\n",
       "      <td>NaN</td>\n",
       "      <td>NaN</td>\n",
       "      <td>0.00</td>\n",
       "    </tr>\n",
       "    <tr>\n",
       "      <th>73118</th>\n",
       "      <td>Scotland</td>\n",
       "      <td>OWID_SCT</td>\n",
       "      <td>2021-01-11</td>\n",
       "      <td>178799.0</td>\n",
       "      <td>175942.0</td>\n",
       "      <td>2857.0</td>\n",
       "      <td>NaN</td>\n",
       "      <td>12664.0</td>\n",
       "      <td>12664.0</td>\n",
       "      <td>3.27</td>\n",
       "      <td>3.22</td>\n",
       "      <td>0.05</td>\n",
       "      <td>NaN</td>\n",
       "      <td>2317.0</td>\n",
       "      <td>12565.0</td>\n",
       "      <td>0.230</td>\n",
       "      <td>0.00</td>\n",
       "    </tr>\n",
       "    <tr>\n",
       "      <th>73119</th>\n",
       "      <td>Scotland</td>\n",
       "      <td>OWID_SCT</td>\n",
       "      <td>2021-01-12</td>\n",
       "      <td>194955.0</td>\n",
       "      <td>191965.0</td>\n",
       "      <td>2990.0</td>\n",
       "      <td>NaN</td>\n",
       "      <td>16156.0</td>\n",
       "      <td>14410.0</td>\n",
       "      <td>3.57</td>\n",
       "      <td>3.51</td>\n",
       "      <td>0.05</td>\n",
       "      <td>NaN</td>\n",
       "      <td>2636.0</td>\n",
       "      <td>14294.0</td>\n",
       "      <td>0.262</td>\n",
       "      <td>0.00</td>\n",
       "    </tr>\n",
       "    <tr>\n",
       "      <th>73120</th>\n",
       "      <td>Scotland</td>\n",
       "      <td>OWID_SCT</td>\n",
       "      <td>2021-01-13</td>\n",
       "      <td>211397.0</td>\n",
       "      <td>208207.0</td>\n",
       "      <td>3190.0</td>\n",
       "      <td>NaN</td>\n",
       "      <td>16442.0</td>\n",
       "      <td>15087.0</td>\n",
       "      <td>3.87</td>\n",
       "      <td>3.81</td>\n",
       "      <td>0.06</td>\n",
       "      <td>NaN</td>\n",
       "      <td>2760.0</td>\n",
       "      <td>14943.0</td>\n",
       "      <td>0.273</td>\n",
       "      <td>0.00</td>\n",
       "    </tr>\n",
       "    <tr>\n",
       "      <th>73121</th>\n",
       "      <td>Scotland</td>\n",
       "      <td>OWID_SCT</td>\n",
       "      <td>2021-01-14</td>\n",
       "      <td>228171.0</td>\n",
       "      <td>224840.0</td>\n",
       "      <td>3331.0</td>\n",
       "      <td>NaN</td>\n",
       "      <td>16774.0</td>\n",
       "      <td>15509.0</td>\n",
       "      <td>4.17</td>\n",
       "      <td>4.11</td>\n",
       "      <td>0.06</td>\n",
       "      <td>NaN</td>\n",
       "      <td>2837.0</td>\n",
       "      <td>15366.0</td>\n",
       "      <td>0.281</td>\n",
       "      <td>0.00</td>\n",
       "    </tr>\n",
       "    <tr>\n",
       "      <th>...</th>\n",
       "      <td>...</td>\n",
       "      <td>...</td>\n",
       "      <td>...</td>\n",
       "      <td>...</td>\n",
       "      <td>...</td>\n",
       "      <td>...</td>\n",
       "      <td>...</td>\n",
       "      <td>...</td>\n",
       "      <td>...</td>\n",
       "      <td>...</td>\n",
       "      <td>...</td>\n",
       "      <td>...</td>\n",
       "      <td>...</td>\n",
       "      <td>...</td>\n",
       "      <td>...</td>\n",
       "      <td>...</td>\n",
       "      <td>...</td>\n",
       "    </tr>\n",
       "    <tr>\n",
       "      <th>74389</th>\n",
       "      <td>Serbia</td>\n",
       "      <td>SRB</td>\n",
       "      <td>2022-03-18</td>\n",
       "      <td>NaN</td>\n",
       "      <td>NaN</td>\n",
       "      <td>NaN</td>\n",
       "      <td>NaN</td>\n",
       "      <td>NaN</td>\n",
       "      <td>463.0</td>\n",
       "      <td>NaN</td>\n",
       "      <td>NaN</td>\n",
       "      <td>NaN</td>\n",
       "      <td>NaN</td>\n",
       "      <td>67.0</td>\n",
       "      <td>131.0</td>\n",
       "      <td>0.002</td>\n",
       "      <td>0.00</td>\n",
       "    </tr>\n",
       "    <tr>\n",
       "      <th>74390</th>\n",
       "      <td>Serbia</td>\n",
       "      <td>SRB</td>\n",
       "      <td>2022-03-19</td>\n",
       "      <td>NaN</td>\n",
       "      <td>NaN</td>\n",
       "      <td>NaN</td>\n",
       "      <td>NaN</td>\n",
       "      <td>NaN</td>\n",
       "      <td>463.0</td>\n",
       "      <td>NaN</td>\n",
       "      <td>NaN</td>\n",
       "      <td>NaN</td>\n",
       "      <td>NaN</td>\n",
       "      <td>67.0</td>\n",
       "      <td>131.0</td>\n",
       "      <td>0.002</td>\n",
       "      <td>0.00</td>\n",
       "    </tr>\n",
       "    <tr>\n",
       "      <th>74391</th>\n",
       "      <td>Serbia</td>\n",
       "      <td>SRB</td>\n",
       "      <td>2022-03-20</td>\n",
       "      <td>NaN</td>\n",
       "      <td>NaN</td>\n",
       "      <td>NaN</td>\n",
       "      <td>NaN</td>\n",
       "      <td>NaN</td>\n",
       "      <td>463.0</td>\n",
       "      <td>NaN</td>\n",
       "      <td>NaN</td>\n",
       "      <td>NaN</td>\n",
       "      <td>NaN</td>\n",
       "      <td>67.0</td>\n",
       "      <td>131.0</td>\n",
       "      <td>0.002</td>\n",
       "      <td>0.00</td>\n",
       "    </tr>\n",
       "    <tr>\n",
       "      <th>74392</th>\n",
       "      <td>Serbia</td>\n",
       "      <td>SRB</td>\n",
       "      <td>2022-03-21</td>\n",
       "      <td>8493801.0</td>\n",
       "      <td>3347069.0</td>\n",
       "      <td>3269158.0</td>\n",
       "      <td>1877574.0</td>\n",
       "      <td>NaN</td>\n",
       "      <td>463.0</td>\n",
       "      <td>123.61</td>\n",
       "      <td>48.71</td>\n",
       "      <td>47.58</td>\n",
       "      <td>27.32</td>\n",
       "      <td>67.0</td>\n",
       "      <td>131.0</td>\n",
       "      <td>0.002</td>\n",
       "      <td>27.32</td>\n",
       "    </tr>\n",
       "    <tr>\n",
       "      <th>74393</th>\n",
       "      <td>Serbia</td>\n",
       "      <td>SRB</td>\n",
       "      <td>2022-03-22</td>\n",
       "      <td>8494958.0</td>\n",
       "      <td>3347209.0</td>\n",
       "      <td>3269374.0</td>\n",
       "      <td>1878375.0</td>\n",
       "      <td>1157.0</td>\n",
       "      <td>562.0</td>\n",
       "      <td>123.63</td>\n",
       "      <td>48.71</td>\n",
       "      <td>47.58</td>\n",
       "      <td>27.34</td>\n",
       "      <td>82.0</td>\n",
       "      <td>132.0</td>\n",
       "      <td>0.002</td>\n",
       "      <td>27.34</td>\n",
       "    </tr>\n",
       "  </tbody>\n",
       "</table>\n",
       "<p>890 rows × 17 columns</p>\n",
       "</div>"
      ],
      "text/plain": [
       "        country  iso_code        date  total_vaccinations  people_vaccinated  \\\n",
       "73117  Scotland  OWID_SCT  2021-01-10            166135.0           163377.0   \n",
       "73118  Scotland  OWID_SCT  2021-01-11            178799.0           175942.0   \n",
       "73119  Scotland  OWID_SCT  2021-01-12            194955.0           191965.0   \n",
       "73120  Scotland  OWID_SCT  2021-01-13            211397.0           208207.0   \n",
       "73121  Scotland  OWID_SCT  2021-01-14            228171.0           224840.0   \n",
       "...         ...       ...         ...                 ...                ...   \n",
       "74389    Serbia       SRB  2022-03-18                 NaN                NaN   \n",
       "74390    Serbia       SRB  2022-03-19                 NaN                NaN   \n",
       "74391    Serbia       SRB  2022-03-20                 NaN                NaN   \n",
       "74392    Serbia       SRB  2022-03-21           8493801.0          3347069.0   \n",
       "74393    Serbia       SRB  2022-03-22           8494958.0          3347209.0   \n",
       "\n",
       "       people_fully_vaccinated  total_boosters  daily_vaccinations_raw  \\\n",
       "73117                   2758.0             NaN                     NaN   \n",
       "73118                   2857.0             NaN                 12664.0   \n",
       "73119                   2990.0             NaN                 16156.0   \n",
       "73120                   3190.0             NaN                 16442.0   \n",
       "73121                   3331.0             NaN                 16774.0   \n",
       "...                        ...             ...                     ...   \n",
       "74389                      NaN             NaN                     NaN   \n",
       "74390                      NaN             NaN                     NaN   \n",
       "74391                      NaN             NaN                     NaN   \n",
       "74392                3269158.0       1877574.0                     NaN   \n",
       "74393                3269374.0       1878375.0                  1157.0   \n",
       "\n",
       "       daily_vaccinations  total_vaccinations_per_hundred  \\\n",
       "73117                 NaN                            3.04   \n",
       "73118             12664.0                            3.27   \n",
       "73119             14410.0                            3.57   \n",
       "73120             15087.0                            3.87   \n",
       "73121             15509.0                            4.17   \n",
       "...                   ...                             ...   \n",
       "74389               463.0                             NaN   \n",
       "74390               463.0                             NaN   \n",
       "74391               463.0                             NaN   \n",
       "74392               463.0                          123.61   \n",
       "74393               562.0                          123.63   \n",
       "\n",
       "       people_vaccinated_per_hundred  people_fully_vaccinated_per_hundred  \\\n",
       "73117                           2.99                                 0.05   \n",
       "73118                           3.22                                 0.05   \n",
       "73119                           3.51                                 0.05   \n",
       "73120                           3.81                                 0.06   \n",
       "73121                           4.11                                 0.06   \n",
       "...                              ...                                  ...   \n",
       "74389                            NaN                                  NaN   \n",
       "74390                            NaN                                  NaN   \n",
       "74391                            NaN                                  NaN   \n",
       "74392                          48.71                                47.58   \n",
       "74393                          48.71                                47.58   \n",
       "\n",
       "       total_boosters_per_hundred  daily_vaccinations_per_million  \\\n",
       "73117                         NaN                             NaN   \n",
       "73118                         NaN                          2317.0   \n",
       "73119                         NaN                          2636.0   \n",
       "73120                         NaN                          2760.0   \n",
       "73121                         NaN                          2837.0   \n",
       "...                           ...                             ...   \n",
       "74389                         NaN                            67.0   \n",
       "74390                         NaN                            67.0   \n",
       "74391                         NaN                            67.0   \n",
       "74392                       27.32                            67.0   \n",
       "74393                       27.34                            82.0   \n",
       "\n",
       "       daily_people_vaccinated  daily_people_vaccinated_per_hundred  \\\n",
       "73117                      NaN                                  NaN   \n",
       "73118                  12565.0                                0.230   \n",
       "73119                  14294.0                                0.262   \n",
       "73120                  14943.0                                0.273   \n",
       "73121                  15366.0                                0.281   \n",
       "...                        ...                                  ...   \n",
       "74389                    131.0                                0.002   \n",
       "74390                    131.0                                0.002   \n",
       "74391                    131.0                                0.002   \n",
       "74392                    131.0                                0.002   \n",
       "74393                    132.0                                0.002   \n",
       "\n",
       "       booster_no_nan  \n",
       "73117            0.00  \n",
       "73118            0.00  \n",
       "73119            0.00  \n",
       "73120            0.00  \n",
       "73121            0.00  \n",
       "...               ...  \n",
       "74389            0.00  \n",
       "74390            0.00  \n",
       "74391            0.00  \n",
       "74392           27.32  \n",
       "74393           27.34  \n",
       "\n",
       "[890 rows x 17 columns]"
      ]
     },
     "execution_count": 83,
     "metadata": {},
     "output_type": "execute_result"
    }
   ],
   "source": [
    "coun_data[\"booster_no_nan\"]=coun_data[\"total_boosters_per_hundred\"].fillna(0)\n",
    "coun_data"
   ]
  },
  {
   "cell_type": "markdown",
   "metadata": {},
   "source": [
    " # Q2"
   ]
  },
  {
   "cell_type": "code",
   "execution_count": 68,
   "metadata": {},
   "outputs": [
    {
     "data": {
      "text/plain": [
       "<AxesSubplot:xlabel='daily_vaccinations', ylabel='Count'>"
      ]
     },
     "execution_count": 68,
     "metadata": {},
     "output_type": "execute_result"
    },
    {
     "data": {
      "image/png": "[encoded data removed]",
      "text/plain": [
       "<Figure size 432x288 with 1 Axes>"
      ]
     },
     "metadata": {
      "needs_background": "light"
     },
     "output_type": "display_data"
    }
   ],
   "source": [
    "sns.histplot(data=coun_data,x=\"daily_vaccinations\",hue=\"location\")"
   ]
  },
  {
   "cell_type": "markdown",
   "metadata": {
    "tags": []
   },
   "source": [
    "# Q3"
   ]
  },
  {
   "cell_type": "code",
   "execution_count": 91,
   "metadata": {},
   "outputs": [
    {
     "data": {
      "text/plain": [
       "<AxesSubplot:xlabel='month', ylabel='daily_vaccinations'>"
      ]
     },
     "execution_count": 91,
     "metadata": {},
     "output_type": "execute_result"
    },
    {
     "data": {
      "image/png": "[encoded data removed]",
      "text/plain": [
       "<Figure size 432x288 with 1 Axes>"
      ]
     },
     "metadata": {
      "needs_background": "light"
     },
     "output_type": "display_data"
    }
   ],
   "source": [
    "coun_data[\"month\"]=pd.DatetimeIndex(coun_data[\"date\"]).month\n",
    "sns.boxplot(x=\"month\",y=\"daily_vaccinations\",data=coun_data)"
   ]
  },
  {
   "cell_type": "markdown",
   "metadata": {
    "tags": []
   },
   "source": [
    "# Q4"
   ]
  },
  {
   "cell_type": "code",
   "execution_count": 78,
   "metadata": {},
   "outputs": [],
   "source": [
    "coun_data=coun_data.rename(columns={\"location\":\"country\"})"
   ]
  },
  {
   "cell_type": "code",
   "execution_count": 79,
   "metadata": {},
   "outputs": [
    {
     "data": {
      "text/plain": [
       "<AxesSubplot:xlabel='country', ylabel='daily_vaccinations'>"
      ]
     },
     "execution_count": 79,
     "metadata": {},
     "output_type": "execute_result"
    },
    {
     "data": {
      "image/png": "[encoded data removed]",
      "text/plain": [
       "<Figure size 432x288 with 1 Axes>"
      ]
     },
     "metadata": {
      "needs_background": "light"
     },
     "output_type": "display_data"
    }
   ],
   "source": [
    "sns.boxplot(x=\"country\",y=\"daily_vaccinations\",data=coun_data)"
   ]
  },
  {
   "cell_type": "markdown",
   "metadata": {},
   "source": [
    "---\n",
    "# GOOD LUCK !!!!\n",
    "---"
   ]
  },
  {
   "cell_type": "code",
   "execution_count": null,
   "metadata": {},
   "outputs": [],
   "source": [
    "# do not type below this line"
   ]
  }
 ],
 "metadata": {
  "kernelspec": {
   "display_name": "Python 3",
   "language": "python",
   "name": "python3"
  },
  "language_info": {
   "codemirror_mode": {
    "name": "ipython",
    "version": 3
   },
   "file_extension": ".py",
   "mimetype": "text/x-python",
   "name": "python",
   "nbconvert_exporter": "python",
   "pygments_lexer": "ipython3",
   "version": "3.8.8"
  }
 },
 "nbformat": 4,
 "nbformat_minor": 4
}
